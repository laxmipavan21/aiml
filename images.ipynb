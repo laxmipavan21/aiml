{
  "cells": [
    {
      "cell_type": "markdown",
      "metadata": {
        "id": "view-in-github",
        "colab_type": "text"
      },
      "source": [
        "<a href=\"https://colab.research.google.com/github/laxmipavan21/aiml/blob/main/images.ipynb\" target=\"_parent\"><img src=\"https://colab.research.google.com/assets/colab-badge.svg\" alt=\"Open In Colab\"/></a>"
      ]
    },
    {
      "cell_type": "code",
      "execution_count": null,
      "metadata": {
        "id": "eDvqBqvH7aT_"
      },
      "outputs": [],
      "source": []
    },
    {
      "cell_type": "code",
      "execution_count": null,
      "metadata": {
        "id": "3mBEZaoPJs1I",
        "colab": {
          "base_uri": "https://localhost:8080/"
        },
        "outputId": "bbb6e82e-55a1-4e73-cb49-7d4c573fc1bc"
      },
      "outputs": [
        {
          "output_type": "stream",
          "name": "stdout",
          "text": [
            "Drive already mounted at /content/drive; to attempt to forcibly remount, call drive.mount(\"/content/drive\", force_remount=True).\n"
          ]
        }
      ],
      "source": [
        "from google.colab import drive\n",
        "drive.mount('/content/drive')"
      ]
    },
    {
      "cell_type": "markdown",
      "metadata": {
        "id": "21tLDTDqVTA6"
      },
      "source": [
        "Importing Libraries"
      ]
    },
    {
      "cell_type": "code",
      "execution_count": null,
      "metadata": {
        "id": "2laJQ5ohJ4Eh"
      },
      "outputs": [],
      "source": [
        "import numpy as np\n",
        "import matplotlib.pyplot as plt\n",
        "import tensorflow as tf"
      ]
    },
    {
      "cell_type": "markdown",
      "metadata": {
        "id": "rfZUNqFTWAo2"
      },
      "source": [
        "Train Image Preprocessing"
      ]
    },
    {
      "cell_type": "code",
      "execution_count": null,
      "metadata": {
        "id": "-MDoBu7GVgxu",
        "colab": {
          "base_uri": "https://localhost:8080/"
        },
        "outputId": "d0c91a45-2ca8-4176-ecf0-ae23c4c51908"
      },
      "outputs": [
        {
          "output_type": "stream",
          "name": "stdout",
          "text": [
            "Found 3115 files belonging to 36 classes.\n"
          ]
        }
      ],
      "source": [
        "training_set = tf.keras.utils.image_dataset_from_directory(\n",
        "    '/content/drive/MyDrive/train',\n",
        "    labels=\"inferred\",\n",
        "    label_mode=\"categorical\",\n",
        "    class_names=None,\n",
        "    color_mode=\"rgb\",\n",
        "    batch_size=32,\n",
        "    image_size=(64, 64),\n",
        "    shuffle=True,\n",
        "    seed=None,\n",
        "    validation_split=None,\n",
        "    subset=None,\n",
        "    interpolation=\"bilinear\",\n",
        "    follow_links=False,\n",
        "    crop_to_aspect_ratio=False,\n",
        ")"
      ]
    },
    {
      "cell_type": "markdown",
      "metadata": {
        "id": "ja1tKFr4awiN"
      },
      "source": [
        "Validation Image Pre Processing"
      ]
    },
    {
      "cell_type": "code",
      "execution_count": null,
      "metadata": {
        "id": "Zw7D6JwIZH95",
        "colab": {
          "base_uri": "https://localhost:8080/"
        },
        "outputId": "ec9c0688-0b67-4ac2-c9bb-ca48b8542f02"
      },
      "outputs": [
        {
          "output_type": "stream",
          "name": "stdout",
          "text": [
            "Found 351 files belonging to 36 classes.\n"
          ]
        }
      ],
      "source": [
        "validation_set = tf.keras.utils.image_dataset_from_directory(\n",
        "    '/content/drive/MyDrive/validation',\n",
        "    labels=\"inferred\",\n",
        "    label_mode=\"categorical\",\n",
        "    class_names=None,\n",
        "    color_mode=\"rgb\",\n",
        "    batch_size=32,\n",
        "    image_size=(64, 64),\n",
        "    shuffle=True,\n",
        "    seed=None,\n",
        "    validation_split=None,\n",
        "    subset=None,\n",
        "    interpolation=\"bilinear\",\n",
        "    follow_links=False,\n",
        "    crop_to_aspect_ratio=False,\n",
        ")"
      ]
    },
    {
      "cell_type": "markdown",
      "metadata": {
        "id": "euBzzNWcfcy-"
      },
      "source": [
        "Building the Model"
      ]
    },
    {
      "cell_type": "code",
      "execution_count": null,
      "metadata": {
        "id": "6BmhDvZUbdOQ"
      },
      "outputs": [],
      "source": [
        "cnn = tf.keras.models.Sequential()"
      ]
    },
    {
      "cell_type": "markdown",
      "metadata": {
        "id": "1W4medCVgOY1"
      },
      "source": [
        "Building Convolution Layer"
      ]
    },
    {
      "cell_type": "code",
      "execution_count": null,
      "metadata": {
        "id": "nuoqkEurfwAW"
      },
      "outputs": [],
      "source": [
        "cnn.add(tf.keras.layers.Conv2D(filters=32,kernel_size=3,activation='relu',input_shape=[64,64,3]))\n",
        "cnn.add(tf.keras.layers.Conv2D(filters=32,kernel_size=3,activation='relu'))\n",
        "cnn.add(tf.keras.layers.MaxPool2D(pool_size=2,strides=2))"
      ]
    },
    {
      "cell_type": "code",
      "execution_count": null,
      "metadata": {
        "id": "qCO2kmE-icwI"
      },
      "outputs": [],
      "source": [
        "cnn.add(tf.keras.layers.Conv2D(filters=64,kernel_size=3,activation='relu'))\n",
        "cnn.add(tf.keras.layers.Conv2D(filters=64,kernel_size=3,activation='relu'))\n",
        "cnn.add(tf.keras.layers.MaxPool2D(pool_size=2,strides=2))"
      ]
    },
    {
      "cell_type": "code",
      "execution_count": null,
      "metadata": {
        "id": "ZnbMFxJ2iwbL"
      },
      "outputs": [],
      "source": []
    },
    {
      "cell_type": "code",
      "execution_count": null,
      "metadata": {
        "id": "_rmExQ1PjHFC"
      },
      "outputs": [],
      "source": [
        "cnn.add(tf.keras.layers.Flatten())"
      ]
    },
    {
      "cell_type": "code",
      "source": [],
      "metadata": {
        "id": "x3njF6GVN3pw"
      },
      "execution_count": null,
      "outputs": []
    },
    {
      "cell_type": "code",
      "execution_count": null,
      "metadata": {
        "id": "7o10OVxSjSZe"
      },
      "outputs": [],
      "source": [
        "cnn.add(tf.keras.layers.Dense(units=512,activation='relu'))"
      ]
    },
    {
      "cell_type": "code",
      "source": [
        "cnn.add(tf.keras.layers.Dense(units=256,activation='relu'))"
      ],
      "metadata": {
        "id": "dR4NL9d7ODye"
      },
      "execution_count": null,
      "outputs": []
    },
    {
      "cell_type": "code",
      "source": [
        "cnn.add(tf.keras.layers.Dropout(0.5))"
      ],
      "metadata": {
        "id": "W_WrUmbwOHQe"
      },
      "execution_count": null,
      "outputs": []
    },
    {
      "cell_type": "code",
      "execution_count": null,
      "metadata": {
        "id": "V1W-G_lUjqrW"
      },
      "outputs": [],
      "source": [
        "#Output Layer\n",
        "cnn.add(tf.keras.layers.Dense(units=36,activation='softmax'))"
      ]
    },
    {
      "cell_type": "markdown",
      "metadata": {
        "id": "69OsiseMkbnw"
      },
      "source": [
        "Compiling and Training"
      ]
    },
    {
      "cell_type": "code",
      "execution_count": null,
      "metadata": {
        "id": "0DpISIIXkEr5"
      },
      "outputs": [],
      "source": [
        "cnn.compile(optimizer='adam',loss='categorical_crossentropy',metrics=['accuracy'])"
      ]
    },
    {
      "cell_type": "markdown",
      "metadata": {
        "id": "pPBY2ZyPoLfe"
      },
      "source": [
        "Saving Model"
      ]
    },
    {
      "cell_type": "code",
      "execution_count": null,
      "metadata": {
        "id": "geqOGRNCmksn",
        "colab": {
          "base_uri": "https://localhost:8080/"
        },
        "outputId": "1a2acbcf-52e4-41b9-ac61-6b7f11885952"
      },
      "outputs": [
        {
          "output_type": "stream",
          "name": "stdout",
          "text": [
            "Epoch 1/32\n",
            "98/98 [==============================] - 149s 1s/step - loss: 1.0245 - accuracy: 0.7242 - val_loss: 1.1801 - val_accuracy: 0.7607\n",
            "Epoch 2/32\n",
            "98/98 [==============================] - 142s 1s/step - loss: 0.9855 - accuracy: 0.7361 - val_loss: 1.3207 - val_accuracy: 0.7607\n",
            "Epoch 3/32\n",
            "98/98 [==============================] - 136s 1s/step - loss: 0.9619 - accuracy: 0.7377 - val_loss: 1.1216 - val_accuracy: 0.7778\n",
            "Epoch 4/32\n",
            "98/98 [==============================] - 138s 1s/step - loss: 1.0057 - accuracy: 0.7413 - val_loss: 1.1200 - val_accuracy: 0.7920\n",
            "Epoch 5/32\n",
            "98/98 [==============================] - 141s 1s/step - loss: 0.8969 - accuracy: 0.7518 - val_loss: 1.1665 - val_accuracy: 0.7863\n",
            "Epoch 6/32\n",
            "98/98 [==============================] - 132s 1s/step - loss: 0.8553 - accuracy: 0.7717 - val_loss: 1.1456 - val_accuracy: 0.7863\n",
            "Epoch 7/32\n",
            "98/98 [==============================] - 136s 1s/step - loss: 0.7795 - accuracy: 0.7942 - val_loss: 1.1475 - val_accuracy: 0.7806\n",
            "Epoch 8/32\n",
            "98/98 [==============================] - 146s 1s/step - loss: 0.7956 - accuracy: 0.7830 - val_loss: 1.1564 - val_accuracy: 0.7949\n",
            "Epoch 9/32\n",
            "98/98 [==============================] - 137s 1s/step - loss: 0.7824 - accuracy: 0.7920 - val_loss: 1.1019 - val_accuracy: 0.8205\n",
            "Epoch 10/32\n",
            "98/98 [==============================] - 134s 1s/step - loss: 0.7336 - accuracy: 0.8029 - val_loss: 1.1719 - val_accuracy: 0.7692\n",
            "Epoch 11/32\n",
            "98/98 [==============================] - 143s 1s/step - loss: 0.7496 - accuracy: 0.7952 - val_loss: 0.9669 - val_accuracy: 0.8376\n",
            "Epoch 12/32\n",
            "98/98 [==============================] - 146s 1s/step - loss: 0.6823 - accuracy: 0.8154 - val_loss: 1.1027 - val_accuracy: 0.8177\n",
            "Epoch 13/32\n",
            "98/98 [==============================] - 143s 1s/step - loss: 0.6850 - accuracy: 0.8247 - val_loss: 1.0797 - val_accuracy: 0.8262\n",
            "Epoch 14/32\n",
            "98/98 [==============================] - 145s 1s/step - loss: 0.6210 - accuracy: 0.8308 - val_loss: 1.0672 - val_accuracy: 0.8462\n",
            "Epoch 15/32\n",
            "98/98 [==============================] - 146s 1s/step - loss: 0.6611 - accuracy: 0.8257 - val_loss: 1.0591 - val_accuracy: 0.8433\n",
            "Epoch 16/32\n",
            "98/98 [==============================] - 142s 1s/step - loss: 0.5971 - accuracy: 0.8404 - val_loss: 1.1167 - val_accuracy: 0.8234\n",
            "Epoch 17/32\n",
            "98/98 [==============================] - 134s 1s/step - loss: 0.5928 - accuracy: 0.8360 - val_loss: 1.0430 - val_accuracy: 0.8319\n",
            "Epoch 18/32\n",
            "98/98 [==============================] - 134s 1s/step - loss: 0.5803 - accuracy: 0.8459 - val_loss: 0.8575 - val_accuracy: 0.8575\n",
            "Epoch 19/32\n",
            "98/98 [==============================] - 149s 1s/step - loss: 0.5361 - accuracy: 0.8514 - val_loss: 0.8930 - val_accuracy: 0.8746\n",
            "Epoch 20/32\n",
            "98/98 [==============================] - 136s 1s/step - loss: 0.5176 - accuracy: 0.8604 - val_loss: 0.9128 - val_accuracy: 0.8547\n",
            "Epoch 21/32\n",
            "98/98 [==============================] - 131s 1s/step - loss: 0.4888 - accuracy: 0.8648 - val_loss: 0.9240 - val_accuracy: 0.8490\n",
            "Epoch 22/32\n",
            "98/98 [==============================] - 129s 1s/step - loss: 0.5035 - accuracy: 0.8690 - val_loss: 0.8849 - val_accuracy: 0.8661\n",
            "Epoch 23/32\n",
            "98/98 [==============================] - 140s 1s/step - loss: 0.4867 - accuracy: 0.8713 - val_loss: 0.8904 - val_accuracy: 0.8689\n",
            "Epoch 24/32\n",
            "98/98 [==============================] - 138s 1s/step - loss: 0.4766 - accuracy: 0.8722 - val_loss: 0.7542 - val_accuracy: 0.8803\n",
            "Epoch 25/32\n",
            "98/98 [==============================] - 131s 1s/step - loss: 0.4708 - accuracy: 0.8815 - val_loss: 1.0754 - val_accuracy: 0.8575\n",
            "Epoch 26/32\n",
            "98/98 [==============================] - 138s 1s/step - loss: 0.4729 - accuracy: 0.8780 - val_loss: 0.7675 - val_accuracy: 0.8889\n",
            "Epoch 27/32\n",
            "98/98 [==============================] - 137s 1s/step - loss: 0.4740 - accuracy: 0.8751 - val_loss: 0.8751 - val_accuracy: 0.8746\n",
            "Epoch 28/32\n",
            "98/98 [==============================] - 151s 1s/step - loss: 0.4694 - accuracy: 0.8783 - val_loss: 0.8718 - val_accuracy: 0.8604\n",
            "Epoch 29/32\n",
            "98/98 [==============================] - 144s 1s/step - loss: 0.4317 - accuracy: 0.8812 - val_loss: 0.8500 - val_accuracy: 0.8889\n",
            "Epoch 30/32\n",
            "98/98 [==============================] - 140s 1s/step - loss: 0.4143 - accuracy: 0.8921 - val_loss: 0.8820 - val_accuracy: 0.8860\n",
            "Epoch 31/32\n",
            "98/98 [==============================] - 140s 1s/step - loss: 0.3856 - accuracy: 0.9063 - val_loss: 0.7875 - val_accuracy: 0.9031\n",
            "Epoch 32/32\n",
            "98/98 [==============================] - 147s 1s/step - loss: 0.3563 - accuracy: 0.9072 - val_loss: 0.8748 - val_accuracy: 0.9003\n"
          ]
        }
      ],
      "source": [
        "training_history = cnn.fit(x=training_set,validation_data=validation_set,epochs=32)"
      ]
    },
    {
      "cell_type": "markdown",
      "source": [
        "Saving the Model"
      ],
      "metadata": {
        "id": "L4RT0IVTuyI8"
      }
    },
    {
      "cell_type": "code",
      "source": [
        "cnn.save('training_model.h5')"
      ],
      "metadata": {
        "id": "IxYkUpG9cx5E",
        "colab": {
          "base_uri": "https://localhost:8080/"
        },
        "outputId": "845fa3ef-b4c6-46ef-c07a-22be9ccfb955"
      },
      "execution_count": null,
      "outputs": [
        {
          "output_type": "stream",
          "name": "stderr",
          "text": [
            "/usr/local/lib/python3.10/dist-packages/keras/src/engine/training.py:3000: UserWarning: You are saving your model as an HDF5 file via `model.save()`. This file format is considered legacy. We recommend using instead the native Keras format, e.g. `model.save('my_model.keras')`.\n",
            "  saving_api.save_model(\n"
          ]
        }
      ]
    },
    {
      "cell_type": "markdown",
      "source": [
        "Recording the History"
      ],
      "metadata": {
        "id": "bzE17qsqu6mh"
      }
    },
    {
      "cell_type": "code",
      "source": [
        "training_history.history"
      ],
      "metadata": {
        "id": "HPHONAxavNpa",
        "colab": {
          "base_uri": "https://localhost:8080/"
        },
        "outputId": "0e087a50-738b-423b-ab7e-6079b31e18d3"
      },
      "execution_count": null,
      "outputs": [
        {
          "output_type": "execute_result",
          "data": {
            "text/plain": [
              "{'loss': [1.0244776010513306,\n",
              "  0.9855417609214783,\n",
              "  0.961877167224884,\n",
              "  1.005658745765686,\n",
              "  0.8968868255615234,\n",
              "  0.8553009629249573,\n",
              "  0.7794706225395203,\n",
              "  0.7955893874168396,\n",
              "  0.7824234962463379,\n",
              "  0.7335810661315918,\n",
              "  0.7496093511581421,\n",
              "  0.6822618246078491,\n",
              "  0.6850053668022156,\n",
              "  0.6209696531295776,\n",
              "  0.6611457467079163,\n",
              "  0.5970975160598755,\n",
              "  0.5927914977073669,\n",
              "  0.5802550911903381,\n",
              "  0.5361241102218628,\n",
              "  0.5176159143447876,\n",
              "  0.488834023475647,\n",
              "  0.503541886806488,\n",
              "  0.4867347478866577,\n",
              "  0.4765782654285431,\n",
              "  0.47078248858451843,\n",
              "  0.4728911817073822,\n",
              "  0.4740144610404968,\n",
              "  0.46938657760620117,\n",
              "  0.4317176043987274,\n",
              "  0.41434675455093384,\n",
              "  0.38562172651290894,\n",
              "  0.3562580347061157],\n",
              " 'accuracy': [0.7242375612258911,\n",
              "  0.736115574836731,\n",
              "  0.7377207279205322,\n",
              "  0.7412520051002502,\n",
              "  0.7518458962440491,\n",
              "  0.7717496156692505,\n",
              "  0.7942215204238892,\n",
              "  0.7829855680465698,\n",
              "  0.7919743061065674,\n",
              "  0.8028892278671265,\n",
              "  0.7951846122741699,\n",
              "  0.8154093027114868,\n",
              "  0.8247190713882446,\n",
              "  0.8308185935020447,\n",
              "  0.8256821632385254,\n",
              "  0.8404494524002075,\n",
              "  0.8359550833702087,\n",
              "  0.8459069132804871,\n",
              "  0.8513643741607666,\n",
              "  0.8603531122207642,\n",
              "  0.8648475408554077,\n",
              "  0.8690208792686462,\n",
              "  0.8712680339813232,\n",
              "  0.872231125831604,\n",
              "  0.8815409541130066,\n",
              "  0.8780096173286438,\n",
              "  0.8751204013824463,\n",
              "  0.878330647945404,\n",
              "  0.8812199234962463,\n",
              "  0.8921348452568054,\n",
              "  0.9062600135803223,\n",
              "  0.907223105430603],\n",
              " 'val_loss': [1.1801416873931885,\n",
              "  1.3206756114959717,\n",
              "  1.1216142177581787,\n",
              "  1.119951605796814,\n",
              "  1.1665146350860596,\n",
              "  1.1455843448638916,\n",
              "  1.147463321685791,\n",
              "  1.1563650369644165,\n",
              "  1.1018967628479004,\n",
              "  1.1718870401382446,\n",
              "  0.9669278264045715,\n",
              "  1.1027096509933472,\n",
              "  1.0796902179718018,\n",
              "  1.067200779914856,\n",
              "  1.0590667724609375,\n",
              "  1.116658329963684,\n",
              "  1.0429633855819702,\n",
              "  0.8574977517127991,\n",
              "  0.893005907535553,\n",
              "  0.9128398895263672,\n",
              "  0.9240074157714844,\n",
              "  0.8848538994789124,\n",
              "  0.890354335308075,\n",
              "  0.7542086243629456,\n",
              "  1.0754122734069824,\n",
              "  0.7674695253372192,\n",
              "  0.8750869631767273,\n",
              "  0.8718039989471436,\n",
              "  0.8500159978866577,\n",
              "  0.8820090293884277,\n",
              "  0.7875025272369385,\n",
              "  0.8748231530189514],\n",
              " 'val_accuracy': [0.7606837749481201,\n",
              "  0.7606837749481201,\n",
              "  0.7777777910232544,\n",
              "  0.7920227646827698,\n",
              "  0.7863247990608215,\n",
              "  0.7863247990608215,\n",
              "  0.7806267738342285,\n",
              "  0.7948718070983887,\n",
              "  0.8205128312110901,\n",
              "  0.7692307829856873,\n",
              "  0.8376068472862244,\n",
              "  0.8176637887954712,\n",
              "  0.8262107968330383,\n",
              "  0.8461538553237915,\n",
              "  0.8433048725128174,\n",
              "  0.8233618140220642,\n",
              "  0.8319088220596313,\n",
              "  0.8575498461723328,\n",
              "  0.874643862247467,\n",
              "  0.8547008633613586,\n",
              "  0.8490028381347656,\n",
              "  0.8660968542098999,\n",
              "  0.8689458966255188,\n",
              "  0.8803418874740601,\n",
              "  0.8575498461723328,\n",
              "  0.8888888955116272,\n",
              "  0.874643862247467,\n",
              "  0.8603988885879517,\n",
              "  0.8888888955116272,\n",
              "  0.8860399127006531,\n",
              "  0.9031339287757874,\n",
              "  0.9002848863601685]}"
            ]
          },
          "metadata": {},
          "execution_count": 18
        }
      ]
    },
    {
      "cell_type": "code",
      "source": [
        "import json\n",
        "with open('training_hist.json','w') as f:\n",
        "  json.dump(training_history.history,f)"
      ],
      "metadata": {
        "id": "4_ZYjoqAu3uw"
      },
      "execution_count": null,
      "outputs": []
    },
    {
      "cell_type": "code",
      "source": [
        "print(training_history.history.keys())"
      ],
      "metadata": {
        "id": "TYOjsZdKAzz2",
        "colab": {
          "base_uri": "https://localhost:8080/"
        },
        "outputId": "4aebae09-52a7-42d3-9f9e-32993806e83a"
      },
      "execution_count": null,
      "outputs": [
        {
          "output_type": "stream",
          "name": "stdout",
          "text": [
            "dict_keys(['loss', 'accuracy', 'val_loss', 'val_accuracy'])\n"
          ]
        }
      ]
    },
    {
      "cell_type": "markdown",
      "source": [
        "Calculating Accuracy of Model achieved on Validation Set\n"
      ],
      "metadata": {
        "id": "Wb1di__aBHji"
      }
    },
    {
      "cell_type": "code",
      "source": [
        "print(\"Validation set accuracy: {} %\".format(training_history.history['val_accuracy'][-1]*100))\n"
      ],
      "metadata": {
        "id": "XvfOyuNQA_80",
        "colab": {
          "base_uri": "https://localhost:8080/"
        },
        "outputId": "cc9c37d1-6f72-4fdb-9e0c-38b4bb40ee86"
      },
      "execution_count": null,
      "outputs": [
        {
          "output_type": "stream",
          "name": "stdout",
          "text": [
            "Validation set accuracy: 90.02848863601685 %\n"
          ]
        }
      ]
    },
    {
      "cell_type": "markdown",
      "source": [
        "Accuracy Visualization"
      ],
      "metadata": {
        "id": "vYwpbt_oCaT5"
      }
    },
    {
      "cell_type": "markdown",
      "source": [
        "Training Visualization"
      ],
      "metadata": {
        "id": "A442VnV-Cdjb"
      }
    },
    {
      "cell_type": "code",
      "source": [
        "epochs = [i for i in range(1,33)]\n",
        "plt.plot(epochs,training_history.history['accuracy'],color='r')\n",
        "plt.xlabel('Epochs')\n",
        "plt.ylabel('Training Accuracy')\n",
        "plt.title('Visualization of Training Accuracy Result')\n",
        "plt.show()"
      ],
      "metadata": {
        "id": "V4vBZTZnBRMP",
        "colab": {
          "base_uri": "https://localhost:8080/",
          "height": 472
        },
        "outputId": "d7901977-2fc0-4c26-d930-88df53314649"
      },
      "execution_count": null,
      "outputs": [
        {
          "output_type": "display_data",
          "data": {
            "text/plain": [
              "<Figure size 640x480 with 1 Axes>"
            ],
            "image/png": "[encoded data removed]"
          },
          "metadata": {}
        }
      ]
    },
    {
      "cell_type": "markdown",
      "source": [
        "Validation Accuracy"
      ],
      "metadata": {
        "id": "Sp7KEtxWCcWB"
      }
    },
    {
      "cell_type": "code",
      "source": [
        "plt.plot(epochs,training_history.history['val_accuracy'],color='blue')\n",
        "plt.xlabel('Epochs')\n",
        "plt.ylabel('Validation Accuracy')\n",
        "plt.title('Visualization of Validation Accuracy Result')\n",
        "plt.show()"
      ],
      "metadata": {
        "id": "iVU5uN0JDPt0",
        "colab": {
          "base_uri": "https://localhost:8080/",
          "height": 472
        },
        "outputId": "5ff0ea63-9236-4a5a-f7d6-81daddc79f31"
      },
      "execution_count": null,
      "outputs": [
        {
          "output_type": "display_data",
          "data": {
            "text/plain": [
              "<Figure size 640x480 with 1 Axes>"
            ],
            "image/png": "[encoded data removed]"
          },
          "metadata": {}
        }
      ]
    },
    {
      "cell_type": "code",
      "source": [
        "training_loss,training_accuracy = cnn.evaluate(training_set)"
      ],
      "metadata": {
        "id": "4fdI1bpCD2ly",
        "colab": {
          "base_uri": "https://localhost:8080/"
        },
        "outputId": "138bc92c-991e-49fb-adb5-4ff6b778d3d1"
      },
      "execution_count": null,
      "outputs": [
        {
          "output_type": "stream",
          "name": "stdout",
          "text": [
            "98/98 [==============================] - 99s 940ms/step - loss: 0.2833 - accuracy: 0.9201\n"
          ]
        }
      ]
    },
    {
      "cell_type": "code",
      "source": [
        "val_loss,val_accuracy = cnn.evaluate(validation_set)"
      ],
      "metadata": {
        "colab": {
          "base_uri": "https://localhost:8080/"
        },
        "id": "JGYhMz1RdGDn",
        "outputId": "c942317b-4eec-42f8-ca99-cf588ad22d15"
      },
      "execution_count": null,
      "outputs": [
        {
          "output_type": "stream",
          "name": "stdout",
          "text": [
            "11/11 [==============================] - 15s 570ms/step - loss: 0.8748 - accuracy: 0.9003\n"
          ]
        }
      ]
    },
    {
      "cell_type": "code",
      "source": [],
      "metadata": {
        "id": "VjkBiX3wdL1g"
      },
      "execution_count": null,
      "outputs": []
    },
    {
      "cell_type": "markdown",
      "source": [
        "Test Set Evaluation"
      ],
      "metadata": {
        "id": "dHsms0IUdPUv"
      }
    },
    {
      "cell_type": "code",
      "source": [
        "test_set = tf.keras.utils.image_dataset_from_directory(\n",
        "    '/content/drive/MyDrive/test',\n",
        "    labels=\"inferred\",\n",
        "    label_mode=\"categorical\",\n",
        "    class_names=None,\n",
        "    color_mode=\"rgb\",\n",
        "    batch_size=32,\n",
        "    image_size=(64, 64),\n",
        "    shuffle=True,\n",
        "    seed=None,\n",
        "    validation_split=None,\n",
        "    subset=None,\n",
        "    interpolation=\"bilinear\",\n",
        "    follow_links=False,\n",
        "    crop_to_aspect_ratio=False,\n",
        ")"
      ],
      "metadata": {
        "colab": {
          "base_uri": "https://localhost:8080/"
        },
        "id": "JQ8ZWSxxdRU_",
        "outputId": "fec79d3b-bfe3-4a13-fba9-4816d7f12718"
      },
      "execution_count": null,
      "outputs": [
        {
          "output_type": "stream",
          "name": "stdout",
          "text": [
            "Found 359 files belonging to 36 classes.\n"
          ]
        }
      ]
    },
    {
      "cell_type": "code",
      "source": [
        "test_loss,test_accuracy = cnn.evaluate(test_set)"
      ],
      "metadata": {
        "colab": {
          "base_uri": "https://localhost:8080/"
        },
        "id": "gTAqnzeTdaYp",
        "outputId": "b4cf2900-cedc-414d-dcf5-0efff9e8165b"
      },
      "execution_count": null,
      "outputs": [
        {
          "output_type": "stream",
          "name": "stdout",
          "text": [
            "12/12 [==============================] - 13s 273ms/step - loss: 0.8652 - accuracy: 0.8997\n"
          ]
        }
      ]
    },
    {
      "cell_type": "code",
      "source": [],
      "metadata": {
        "id": "W72-MO-BdzZp"
      },
      "execution_count": null,
      "outputs": []
    }
  ],
  "metadata": {
    "colab": {
      "provenance": [],
      "include_colab_link": true
    },
    "kernelspec": {
      "display_name": "Python 3",
      "name": "python3"
    },
    "language_info": {
      "name": "python"
    }
  },
  "nbformat": 4,
  "nbformat_minor": 0
}